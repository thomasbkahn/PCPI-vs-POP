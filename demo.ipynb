{
 "cells": [
  {
   "cell_type": "code",
   "execution_count": null,
   "metadata": {
    "collapsed": false
   },
   "outputs": [],
   "source": [
    "import analysis\n",
    "import numpy as np\n",
    "from bokeh.plotting import figure, show\n",
    "from bokeh.io import output_notebook, gridplot\n",
    "from bokeh.palettes import brewer"
   ]
  },
  {
   "cell_type": "code",
   "execution_count": null,
   "metadata": {
    "collapsed": false
   },
   "outputs": [],
   "source": [
    "output_notebook()"
   ]
  },
  {
   "cell_type": "code",
   "execution_count": null,
   "metadata": {
    "collapsed": false
   },
   "outputs": [],
   "source": [
    "# Download csv data here: https://research.stlouisfed.org/fred2/downloaddata/\n",
    "# and change this variable to point to the main the unzipped directory\n",
    "analysis.FRED_dir    = '/Users/tbk/FRED2_csv_2/'\n",
    "\n",
    "# Download this file: http://www2.census.gov/geo/docs/reference/codes/files/national_county.txt\n",
    "# and change this variable to point to the text file\n",
    "analysis.county_file = '/Users/tbk/national_county.txt'"
   ]
  },
  {
   "cell_type": "markdown",
   "metadata": {},
   "source": [
    "### First, we will need to get a list of files from the FRED directory, and a dictionary of counties:"
   ]
  },
  {
   "cell_type": "code",
   "execution_count": null,
   "metadata": {
    "collapsed": false
   },
   "outputs": [],
   "source": [
    "counties   = analysis.get_county_dict(analysis.county_file)\n",
    "FRED_files = analysis.get_FRED_files(analysis.FRED_dir+'README_SERIES_ID_SORT.txt')"
   ]
  },
  {
   "cell_type": "markdown",
   "metadata": {},
   "source": [
    "To demonstrate the format of the above:"
   ]
  },
  {
   "cell_type": "code",
   "execution_count": null,
   "metadata": {
    "collapsed": false
   },
   "outputs": [],
   "source": [
    "print counties['27053'] # the best county in the world!\n",
    "print FRED_files[0]"
   ]
  },
  {
   "cell_type": "markdown",
   "metadata": {},
   "source": [
    "### Next, we will extract the files which correspond to PCPI or population data, and aggregate them into a single dataframe:"
   ]
  },
  {
   "cell_type": "code",
   "execution_count": null,
   "metadata": {
    "collapsed": false
   },
   "outputs": [],
   "source": [
    "# This cell will take several minutes to run!\n",
    "\n",
    "# Load the PCPI files into a dataframe\n",
    "PCPI_files = analysis.get_PCPI_files(FRED_files, counties.keys())\n",
    "PCPI_data  = analysis.aggregate(PCPI_files, 'PCPI', verbose=False, save='')\n",
    "\n",
    "# Load the POP files into a dataframe\n",
    "# We will only use counties that have both sets,\n",
    "# so we will only load data that was accessed in the PCPI dataframe\n",
    "POP_files  = analysis.get_POP_files(FRED_files, PCPI_data.loaded, counties)\n",
    "POP_data   = analysis.aggregate(POP_files, 'POP', verbose=False, save='')\n",
    "\n",
    "# ...and then remove those few sets which had PCPI data but no POP data\n",
    "to_remove  = [PCPI_FIP+'_'+PCPI_data.label for PCPI_FIP in PCPI_data.loaded if PCPI_FIP not in POP_data.loaded]\n",
    "PCPI_data.drop(to_remove, axis=1, inplace=True)"
   ]
  },
  {
   "cell_type": "markdown",
   "metadata": {},
   "source": [
    "### Let's transform the data into something a bit more manageable:"
   ]
  },
  {
   "cell_type": "code",
   "execution_count": null,
   "metadata": {
    "collapsed": false
   },
   "outputs": [],
   "source": [
    "# Normalize PCPI values to 2015 USD and convert to units of thousands\n",
    "PCPI_norm  = analysis.deflate(PCPI_data/1e3, norm_filename='C/P/I/CPIAUCSL.csv', base='2015')\n",
    "\n",
    "\n",
    "# Take logarithm of POP data, then convert from thousands (add 3)\n",
    "POP_log = POP_data.apply(np.log10) + 3"
   ]
  },
  {
   "cell_type": "markdown",
   "metadata": {},
   "source": [
    "### Now we can do all kinds of cool things. Let's start with just plotting the data from the first year (1970) and the last (2013):"
   ]
  },
  {
   "cell_type": "code",
   "execution_count": null,
   "metadata": {
    "collapsed": false
   },
   "outputs": [],
   "source": [
    "year1 = '1970'\n",
    "year2 = '2013'\n",
    "\n",
    "f = figure(width = 900, height = 540, x_range=[0, 100], y_range=[0, 8], title='PCPI vs POP', \\\n",
    "           x_axis_label='Per Capita Personal Income (2015 Dollars, Thousands)', y_axis_label='Log County Population')\n",
    "f.circle(PCPI_norm[year1].values[0], POP_log[year1].values[0], alpha=0.1, color='royalblue', legend=year1)\n",
    "f.circle(PCPI_norm[year2].values[0], POP_log[year2].values[0], alpha=0.1, color='firebrick', legend=year2)\n",
    "show(f)"
   ]
  },
  {
   "cell_type": "markdown",
   "metadata": {},
   "source": [
    "### Let's look at some individual counties over time. First, we'll invert the `counties` dictionary to make it more human-friendly:"
   ]
  },
  {
   "cell_type": "code",
   "execution_count": null,
   "metadata": {
    "collapsed": false
   },
   "outputs": [],
   "source": [
    "# Double check that the names of counties uniquely identify each position\n",
    "# (otherwise we'll have errors which won't raise exceptions)\n",
    "len(set(counties.keys())) == len(set(counties.values()))"
   ]
  },
  {
   "cell_type": "code",
   "execution_count": null,
   "metadata": {
    "collapsed": false
   },
   "outputs": [],
   "source": [
    "# We're in the clear, so let's invert the dictionary\n",
    "counties_inv = {name : FIPS for FIPS, name in counties.items()}\n",
    "\n",
    "# and test it out\n",
    "print counties_inv['Hennepin County, MN']\n",
    "print counties[counties_inv['Hennepin County, MN']]"
   ]
  },
  {
   "cell_type": "markdown",
   "metadata": {},
   "source": [
    "### Now we can easily look up individual counties by name:"
   ]
  },
  {
   "cell_type": "code",
   "execution_count": null,
   "metadata": {
    "collapsed": false
   },
   "outputs": [],
   "source": [
    "names = [\n",
    "    'Hennepin County, MN',\n",
    "    'New York County, NY',\n",
    "    'Los Angeles County, CA'\n",
    "]\n",
    "\n",
    "colors = [\n",
    "    'royalblue',\n",
    "    'firebrick',\n",
    "    'forestgreen'\n",
    "]\n",
    "\n",
    "f1 = figure(width = 900, height = 540, x_range=[1970, 2013], title='PCPI for counties in which the author has lived',\\\n",
    "           x_axis_label='Year', y_axis_label='PCPI (2015 Dollars, Thousands)')\n",
    "\n",
    "f2 = figure(width = 900, height = 540, x_range=f1.x_range, title='Population of counties in which the author has lived',\\\n",
    "           x_axis_label='Year', y_axis_label='Log County Population')\n",
    "\n",
    "x = PCPI_norm.index.year\n",
    "\n",
    "for color, name in zip(colors, names):\n",
    "    FIPS = counties_inv[name]\n",
    "    f1.line(x, PCPI_norm[FIPS+'_PCPI'], color=color, legend=name)\n",
    "    f2.line(x, POP_log[FIPS+'_POP'], color=color, legend=name)\n",
    "\n",
    "f = gridplot([[f1], [f2]])\n",
    "show(f)"
   ]
  },
  {
   "cell_type": "markdown",
   "metadata": {},
   "source": [
    "### Let's take a look at all counties in a single state:"
   ]
  },
  {
   "cell_type": "code",
   "execution_count": null,
   "metadata": {
    "collapsed": false
   },
   "outputs": [],
   "source": [
    "state = 'MN'\n",
    "counties_in_state = [name for name in counties_inv.keys() if name.split(',')[1].strip() == state]\n",
    "\n",
    "f = figure(width = 900, height = 540, x_range=[1970, 2013], y_range=[0, 100], title='PCPI in '+state, \\\n",
    "           x_axis_label='Year', y_axis_label='PCPI (2015 Dollars, Thousands)')\n",
    "\n",
    "for c in counties_in_state:\n",
    "    try:\n",
    "        column_name = counties_inv[c]+'_PCPI'\n",
    "        f.line(PCPI_norm.index.year, PCPI_norm[column_name].values)\n",
    "    except KeyError:\n",
    "        pass\n",
    "    \n",
    "show(f)"
   ]
  },
  {
   "cell_type": "markdown",
   "metadata": {},
   "source": [
    "### Looks cool, but it's a little unwieldy. Let's compare just the 10 most populous counties and the national average:"
   ]
  },
  {
   "cell_type": "code",
   "execution_count": null,
   "metadata": {
    "collapsed": true
   },
   "outputs": [],
   "source": [
    "# first, let's get a list of FIPS codes with valid data so that we dont raise KeyErrors\n",
    "valid_FIPS = [col[:5] for col in POP_data.columns]"
   ]
  },
  {
   "cell_type": "code",
   "execution_count": null,
   "metadata": {
    "collapsed": false
   },
   "outputs": [],
   "source": [
    "n = 10 # if using brewer below, n must be between 2 and 10\n",
    "\n",
    "state = 'MN'\n",
    "counties_in_state = [name for name in counties_inv.keys() if name.split(',')[1].strip() == state]\n",
    "\n",
    "# Let's make a dataframe from the POP_log dataframe which only has the state of interest\n",
    "# and then take the n highest populated counties at 2013\n",
    "FIPS_in_state = [FIPS for FIPS, name in counties.items() if name.split(',')[1].strip() == state]\n",
    "top = POP_log[[FIPS+'_POP' for FIPS in FIPS_in_state if FIPS in valid_FIPS]]['2013'].max().sort_values(ascending=False).index[:n]\n",
    "\n",
    "# Let's make another new dataframe, this time for PCPI\n",
    "# We want the top n counties and the national average\n",
    "top_PCPI = PCPI_norm[[top_i[:5]+'_PCPI' for top_i in top]]\n",
    "top_PCPI.columns = [counties[colname[:5]] for colname in top_PCPI.columns] # renaming is easier before we add natl_avg\n",
    "natl_avg = PCPI_norm.mean(axis = 1)\n",
    "natl_avg.name = \"National Average\"\n",
    "top_PCPI = top_PCPI.join(natl_avg)\n",
    "\n",
    "# We'll sort the data by the maximum PCPI, so data will be ordered\n",
    "# in legend and coloring by highest to lowest\n",
    "cols_in_order = top_PCPI.max().sort_values(ascending=False).index\n",
    "x  = top_PCPI.index.year\n",
    "colors = brewer['Spectral'][n+1][::-1]\n",
    "\n",
    "fig_title = 'PCPI of {} most populous counties in {}'.format(n, state)\n",
    "f = figure(width = 900, height = 540, x_range=[1970, 2013], y_range=[0, 100], title=fig_title, \\\n",
    "           x_axis_label='Year', y_axis_label='PCPI (2015 Dollars, Thousands)')\n",
    "\n",
    "for color, column in zip(colors, cols_in_order):\n",
    "    f.circle(x, top_PCPI[column].values, fill_color=color, line_color='black', size=8, legend=column)\n",
    "\n",
    "    \n",
    "f.legend.orientation = 'top_left'\n",
    "\n",
    "\n",
    "show(f)"
   ]
  },
  {
   "cell_type": "markdown",
   "metadata": {},
   "source": [
    "### To better assess comparative economic growth, lets normalize the PCPI of each county (and the national average) to the value for each at 1970:"
   ]
  },
  {
   "cell_type": "code",
   "execution_count": null,
   "metadata": {
    "collapsed": false
   },
   "outputs": [],
   "source": [
    "n = 10 # if using brewer below, n must be between 2 and 10\n",
    "\n",
    "state = 'MN'\n",
    "counties_in_state = [name for name in counties_inv.keys() if name.split(',')[1].strip() == state]\n",
    "\n",
    "# Let's make a dataframe from the POP_log dataframe which only has the state of interest\n",
    "# and then take the n highest populated counties at 2013\n",
    "FIPS_in_state = [FIPS for FIPS, name in counties.items() if name.split(',')[1].strip() == state]\n",
    "top = POP_log[[FIPS+'_POP' for FIPS in FIPS_in_state if FIPS in valid_FIPS]]['2013'].max().sort_values(ascending=False).index[:n]\n",
    "\n",
    "# Let's make another new dataframe, this time for PCPI\n",
    "# We want the top n counties and the national average\n",
    "top_PCPI = PCPI_norm[[top_i[:5]+'_PCPI' for top_i in top]]\n",
    "top_PCPI.columns = [counties[colname[:5]] for colname in top_PCPI.columns] # renaming is easier before we add natl_avg\n",
    "natl_avg = PCPI_norm.mean(axis = 1)\n",
    "natl_avg.name = \"National Average\"\n",
    "top_PCPI = top_PCPI.join(natl_avg)\n",
    "\n",
    "# We'll sort the data by the maximum PCPI, so data will be ordered\n",
    "# in legend and coloring by highest to lowest\n",
    "cols_in_order = top_PCPI.max().sort_values(ascending=False).index\n",
    "x  = top_PCPI.index.year\n",
    "colors = brewer['Spectral'][n+1][::-1]\n",
    "\n",
    "fig_title = 'Growth of mean income in {} most populous counties in {}'.format(n, state)\n",
    "f = figure(width = 900, height = 540, x_range=[1970, 2013], y_range=[0, 2.5], title=fig_title, \\\n",
    "           x_axis_label='Year', y_axis_label='Normalized Income Growth since 1970')\n",
    "\n",
    "for color, column in zip(colors, cols_in_order):\n",
    "    y = top_PCPI[column].values / top_PCPI[column].values[0]\n",
    "    f.circle(x, y, fill_color=color, line_color='black', size=8, legend=column)\n",
    "\n",
    "    \n",
    "f.legend.orientation = 'bottom_right'\n",
    "\n",
    "\n",
    "show(f)"
   ]
  },
  {
   "cell_type": "markdown",
   "metadata": {},
   "source": [
    "### Looks like Ramsey County (home of St. Paul) fared worse after the 2008 financial crisis than the other major counties in Minnesota."
   ]
  },
  {
   "cell_type": "markdown",
   "metadata": {},
   "source": [
    "### Let's return to the first plot of PCPI for counties in Minnesota:\n",
    "What is going on with that huge spike at 1973? It doesn't happen for any of the 10 most populous counties."
   ]
  },
  {
   "cell_type": "code",
   "execution_count": null,
   "metadata": {
    "collapsed": false
   },
   "outputs": [],
   "source": [
    "state = 'MN'\n",
    "counties_in_state = [name for name in counties_inv.keys() if name.split(',')[1].strip() == state]\n",
    "\n",
    "f = figure(width = 900, height = 540, x_range=[1971, 1975], y_range=[0, 60], title='PCPI in '+state, \\\n",
    "           x_axis_label='Year', y_axis_label='PCPI (2015 Dollars, Thousands)')\n",
    "\n",
    "for c in counties_in_state:\n",
    "    try:\n",
    "        column_name = counties_inv[c]+'_PCPI'\n",
    "        f.line(PCPI_norm.index.year, PCPI_norm[column_name].values)\n",
    "    except KeyError:\n",
    "        pass\n",
    "    \n",
    "show(f)"
   ]
  },
  {
   "cell_type": "markdown",
   "metadata": {},
   "source": [
    "### Let's get a list of counties, sorted by their proportional growth at 1973, and see if there are some unifying properties..."
   ]
  },
  {
   "cell_type": "code",
   "execution_count": null,
   "metadata": {
    "collapsed": false
   },
   "outputs": [],
   "source": [
    "state = 'MN'\n",
    "FIPS_in_state = [FIPS for FIPS, name in counties.items() if name.split(',')[1].strip() == state]\n",
    "\n",
    "in_state = PCPI_norm[[FIPS+'_PCPI' for FIPS in FIPS_in_state]]\n",
    "in_state.columns = [counties[colname[:5]] for colname in in_state.columns]\n",
    "natl_avg = PCPI_norm.mean(axis = 1)\n",
    "natl_avg.name = \"National Average\"\n",
    "in_state = in_state.join(natl_avg)\n",
    "\n",
    "growth = in_state.diff() / in_state\n",
    "\n",
    "# convert single row from in_state to series\n",
    "growth['1973'].squeeze().sort_values(ascending=False)"
   ]
  },
  {
   "cell_type": "markdown",
   "metadata": {},
   "source": [
    "### It seems that those counties which had the greatest proportional growth in 1973 are also among the [highest producers of corn in the state](http://www.nass.usda.gov/Statistics_by_State/Minnesota/Publications/County_Estimates/2015/MN_CtyEst_Soybean_%2013-14.pdf). 1973 was also when [oil prices rose](https://en.wikipedia.org/wiki/1973_oil_crisis) to excessive levels. This sudden increase in income may reflect an increased demand for corn, which is used to produce ethanol that in turn is used as diluent for gasoline. As oil becomes more expensive, it makes sense that lower grades of gasoline would be in higher demand, and thus more ethanol would be needed to produce it."
   ]
  }
 ],
 "metadata": {
  "kernelspec": {
   "display_name": "Python 2",
   "language": "python",
   "name": "python2"
  },
  "language_info": {
   "codemirror_mode": {
    "name": "ipython",
    "version": 2
   },
   "file_extension": ".py",
   "mimetype": "text/x-python",
   "name": "python",
   "nbconvert_exporter": "python",
   "pygments_lexer": "ipython2",
   "version": "2.7.10"
  }
 },
 "nbformat": 4,
 "nbformat_minor": 0
}
